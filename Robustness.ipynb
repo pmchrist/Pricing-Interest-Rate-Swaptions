{
 "cells": [
  {
   "cell_type": "code",
   "execution_count": 37,
   "metadata": {},
   "outputs": [],
   "source": [
    "import numpy as np\n",
    "from scipy.interpolate import CubicSpline\n",
    "from scipy.integrate import quad\n",
    "import scipy.stats as stats\n",
    "from multiprocess import Pool\n",
    "from sklearn.linear_model import LinearRegression\n",
    "from sklearn.preprocessing import PolynomialFeatures\n",
    "import QuantLib as ql\n",
    "import matplotlib.pyplot as plt"
   ]
  },
  {
   "cell_type": "code",
   "execution_count": 38,
   "metadata": {},
   "outputs": [],
   "source": [
    "# Flat Yield Curve\n",
    "flat_yields = [\n",
    "    (0.5, .03),\n",
    "    (2.0, .03),\n",
    "    (5.0, .03),\n",
    "    (10.0, .03),\n",
    "]"
   ]
  },
  {
   "cell_type": "code",
   "execution_count": 39,
   "metadata": {},
   "outputs": [],
   "source": [
    "# Extract durations and yields\n",
    "yield_curve = flat_yields\n",
    "durations = [item[0] for item in yield_curve]\n",
    "yields = [item[1] for item in yield_curve]\n",
    "\n",
    "# Fit cubic spline\n",
    "yield_curve = CubicSpline(durations, yields)"
   ]
  },
  {
   "cell_type": "markdown",
   "metadata": {},
   "source": [
    "## Hull-White Testing"
   ]
  },
  {
   "cell_type": "code",
   "execution_count": 40,
   "metadata": {},
   "outputs": [],
   "source": [
    "# Simulation's Parameters\n",
    "T = 5                      # Years of Simulation\n",
    "days_per_year = 52         # Days in the Year\n",
    "steps = int(T*days_per_year)    # Number of steps\n",
    "dt = 1.0 * T / steps            # Time step size\n",
    "simulations = 10000         # Amount of Monte Carlo runs\n",
    "r0 = 0.3\n",
    "\n",
    "# Parameters for the Hull-White model\n",
    "# a: How fast is convergence to the original Yield Structure. Typical Range: [0.01, 0.1], our range: [0.01, 0.1]\n",
    "# sigma: Variance of rates. Typical range: [0.001, 0.02], our range: [0.002, 0.01]\n",
    "a = 0.01\n",
    "sigma = 0.01\n",
    "theta = lambda t: yield_curve.derivative(nu=1)(t) + (a*yield_curve(t)) + ((sigma**2)/(2*a))*(1-np.exp(-2*a*t))"
   ]
  },
  {
   "cell_type": "code",
   "execution_count": 41,
   "metadata": {},
   "outputs": [
    {
     "name": "stdout",
     "output_type": "stream",
     "text": [
      "Analytical Solution for the Mean:  0.2937591215178612\n",
      "Analytical Solution for the Variance:  0.00024185559504342666\n"
     ]
    }
   ],
   "source": [
    "analytical_short_rates = []\n",
    "for t in np.linspace(0, T, steps):\n",
    "    integral = 0\n",
    "    for u in np.linspace(0, t, int(t*days_per_year)):\n",
    "        integral += np.exp(a*(u-t))*theta(u)*dt         # du=dt as we keep discretization step size same\n",
    "    rate_t = r0*np.exp(a*(0-t)) + integral\n",
    "    analytical_short_rates.append(rate_t)\n",
    "mean_sol = np.mean(analytical_short_rates)              # Should we add confidence interval?\n",
    "\n",
    "analytical_variance_rates = []\n",
    "for t in np.linspace(0, T, steps):\n",
    "    var_t = ((np.square(sigma))/(2*a)) * (1 - np.exp(2 * a * (0-t)))\n",
    "    analytical_variance_rates.append(var_t)\n",
    "variance_sol = np.mean(analytical_variance_rates)       # Should we add confidence interval?\n",
    "\n",
    "print(\"Analytical Solution for the Mean: \", mean_sol)\n",
    "print(\"Analytical Solution for the Variance: \", variance_sol)"
   ]
  },
  {
   "cell_type": "code",
   "execution_count": 42,
   "metadata": {},
   "outputs": [],
   "source": [
    "def simulate_path(params):\n",
    "\n",
    "    _, steps, dt, r0, a, sigma, theta, yield_curve = params\n",
    "\n",
    "    import numpy as np\n",
    "    np.random.seed(_)       # So that values in each processor is unique\n",
    "\n",
    "    theta = lambda t: yield_curve.derivative(nu=1)(t) + (a*yield_curve(t)) + ((sigma**2)/(2*a))*(1-np.exp(-2*a*t))\n",
    "    Z = np.random.normal(0, 1, steps)\n",
    "    dr = np.zeros(steps)\n",
    "    r = np.zeros(steps)\n",
    "    r[0] = r0  # Initialize with the initial rate from the market\n",
    "    for t in range(1, steps):\n",
    "        dr[t] = (theta(t * dt) - a * r[t-1]) * dt + sigma * np.sqrt(dt) * Z[t]\n",
    "        r[t] = r[t-1] + dr[t]\n",
    "    return r\n",
    "\n",
    "# Use multiprocess to run simulations in parallel\n",
    "simulation_params = [(i, steps, dt, r0, a, sigma, theta, yield_curve) for i in range(simulations)]     # Fixed Seed\n",
    "#simulation_params = [(np.random.randint((i+10)*100), steps, dt, r0, a, sigma, theta, yield_curve) for i in range(simulations)]     # Pseudo Random Seed\n",
    "\n",
    "# Run in Parallel\n",
    "with Pool() as pool:\n",
    "    short_rate_paths = pool.map(simulate_path, simulation_params)\n",
    "\n",
    "# Convert list of arrays to a 2D NumPy array\n",
    "short_rate_paths = np.array(short_rate_paths)"
   ]
  },
  {
   "cell_type": "code",
   "execution_count": 43,
   "metadata": {},
   "outputs": [
    {
     "name": "stdout",
     "output_type": "stream",
     "text": [
      "Simulation's Short Rate Mean:  0.2939605294522428 , with a ci: [ 0.2935568034725696 ,  0.294364255431916 ]\n",
      "Simulation's Short Rate Variance is:  0.0002443589171227945 , with a ci: [ 0.00023772440393182622 ,  0.0002512764392061134 ]\n"
     ]
    }
   ],
   "source": [
    "# Some variables necessary for statistical tests\n",
    "confidence_level = 0.95\n",
    "d_f = simulations - 1\n",
    "# T-test for the Mean\n",
    "t_critical = stats.t.ppf((1 + confidence_level) / 2, d_f)\n",
    "# Chi-squared test for the Variance\n",
    "chi2_lower = stats.chi2.ppf((1 - confidence_level) / 2, d_f)\n",
    "chi2_upper = stats.chi2.ppf((1 + confidence_level) / 2, d_f)\n",
    "\n",
    "# Mean\n",
    "sim_means = [np.mean(short_rates) for short_rates in short_rate_paths.T]    # We have to transpose, because analytical value is obtained per each time point, not per path\n",
    "overall_sim_mean = np.mean(sim_means)\n",
    "# Confidence Interval for the mean\n",
    "mean_err = stats.sem(sim_means)  # Standard Error Mean\n",
    "ci_mean = t_critical * mean_err\n",
    "print(\"Simulation's Short Rate Mean: \", overall_sim_mean, \", with a ci: [\", overall_sim_mean-ci_mean, \", \", overall_sim_mean+ci_mean, \"]\")\n",
    "\n",
    "# Variance\n",
    "sim_vars = [np.var(short_rates, ddof=1) for short_rates in short_rate_paths.T]    # degree_of_freedom = n-1, because it is variance\n",
    "overall_sim_var = np.mean(sim_vars) + np.var(sim_vars, ddof=1)  # Variance within and between\n",
    "# Confidence Interval for the variance\n",
    "ci_variance_lower = (d_f * overall_sim_var) / chi2_upper\n",
    "ci_variance_upper = (d_f * overall_sim_var) / chi2_lower\n",
    "print(\"Simulation's Short Rate Variance is: \", overall_sim_var, \", with a ci: [\", ci_variance_lower, \", \", ci_variance_upper, \"]\")"
   ]
  },
  {
   "cell_type": "code",
   "execution_count": 44,
   "metadata": {},
   "outputs": [
    {
     "name": "stdout",
     "output_type": "stream",
     "text": [
      "MAE Mean: -0.00020140793438161442\n",
      "MAE Variance: -2.5033220793678414e-06\n"
     ]
    }
   ],
   "source": [
    "print(f'MAE Mean: {mean_sol - overall_sim_mean}')\n",
    "print(f'MAE Variance: {variance_sol - overall_sim_var}')"
   ]
  },
  {
   "cell_type": "code",
   "execution_count": 45,
   "metadata": {},
   "outputs": [],
   "source": [
    "last_points = short_rate_paths[:,-1]"
   ]
  },
  {
   "cell_type": "code",
   "execution_count": 46,
   "metadata": {},
   "outputs": [
    {
     "name": "stdout",
     "output_type": "stream",
     "text": [
      "0.2883248187220878\n",
      "0.00022030725040825123\n"
     ]
    }
   ],
   "source": [
    "print(np.mean(last_points))\n",
    "print(stats.sem(last_points))"
   ]
  },
  {
   "cell_type": "code",
   "execution_count": 47,
   "metadata": {},
   "outputs": [
    {
     "data": {
      "image/png": "[encoded data removed]",
      "text/plain": [
       "<Figure size 640x480 with 1 Axes>"
      ]
     },
     "metadata": {},
     "output_type": "display_data"
    }
   ],
   "source": [
    "from scipy.stats import norm\n",
    "plt.hist(last_points, bins=50, density=True, alpha=0.5)\n",
    "# Fitting a normal distribution to the data\n",
    "mu, std = norm.fit(last_points)\n",
    "\n",
    "# Plotting the fitted normal distribution\n",
    "xmin, xmax = plt.xlim()\n",
    "x = np.linspace(xmin, xmax, 100)\n",
    "p = norm.pdf(x, mu, std)\n",
    "#real = norm.pdf(x, 0.04, 0.01)\n",
    "plt.plot(x, p, 'k', linewidth=2)\n",
    "plt.xlabel('End Values')\n",
    "plt.ylabel('Count')\n",
    "plt.title('Distribution of endpoints')\n",
    "#plt.plot(x, real, 'k', linewidth=2)\n",
    "plt.show()"
   ]
  },
  {
   "cell_type": "markdown",
   "metadata": {},
   "source": [
    "## Bonds"
   ]
  },
  {
   "cell_type": "code",
   "execution_count": 48,
   "metadata": {},
   "outputs": [],
   "source": [
    "def P_other(s, t, r_s, a, sigma, yield_curve):\n",
    "\n",
    "    def A(s, t, a, sigma, yield_curve):\n",
    "        P_0_t = 1/(1+yield_curve(t))**t     # Value of Zero Coupon Bond (0,t)\n",
    "        P_0_s = 1/(1+yield_curve(s))**s     # Value of Zero Coupon Bond (0,s)\n",
    "        term1 = P_0_t/P_0_s\n",
    "        term2 = B(s, t, a) * yield_curve(s) # B * Instantenious Forward Rate\n",
    "        term3 = (sigma**2/(4*a)) * B(s,t,a)**2 * (1-np.exp(-2*a*s))\n",
    "        return term1*np.exp(term2-term3)\n",
    "\n",
    "    def B(s, t, a):\n",
    "        return 1/a * (1 - np.exp(a * (s - t)))\n",
    "\n",
    "    return A(s, t, a, sigma, yield_curve) * np.exp(-B(s, t, a) * r_s)     # Short rate and initial rate are the same here"
   ]
  },
  {
   "cell_type": "code",
   "execution_count": 49,
   "metadata": {},
   "outputs": [],
   "source": [
    "def P(s, t, r_s, a, sigma, yield_curve):\n",
    "\n",
    "    def A(s, t, a, sigma, yield_curve):\n",
    "        P_0_t = np.exp(-yield_curve(t) * t)\n",
    "        P_0_s = np.exp(-yield_curve(s) * s)\n",
    "        term1 = P_0_t/P_0_s\n",
    "        term2 = B(s, t, a) * yield_curve(s) # B * Instantenious Forward Rate\n",
    "        term3 = (sigma**2/(4*a)) * B(s,t,a)**2 * (1-np.exp(-2*a*s))\n",
    "        return term1*np.exp(term2-term3)\n",
    "\n",
    "    def B(s, t, a):\n",
    "        return 1/a * (1 - np.exp(a * (s - t)))\n",
    "\n",
    "    return A(s, t, a, sigma, yield_curve) * np.exp(-B(s, t, a) * r_s)     # Short rate and initial rate are the same here"
   ]
  },
  {
   "cell_type": "code",
   "execution_count": 50,
   "metadata": {},
   "outputs": [],
   "source": [
    "def bond_price_ql(s, t, r):\n",
    "    # Verifying found Price\n",
    "    todays_date = ql.Date.todaysDate()\n",
    "    ql.Settings.instance().evaluationDate = todays_date + ql.Period(int(s*12), ql.Months)\n",
    "\n",
    "    # Create a bond object\n",
    "    issue_date = todays_date + ql.Period(int(s*12), ql.Months)\n",
    "    maturity_date = todays_date + ql.Period(int(t*12), ql.Months)\n",
    "    bond = ql.ZeroCouponBond(0, ql.NullCalendar(), 1.0, maturity_date)\n",
    "\n",
    "    # Set up the bond engine\n",
    "    spot_curve_handle = ql.YieldTermStructureHandle(ql.FlatForward(issue_date, r, ql.Actual365Fixed()))\n",
    "    bond_engine = ql.DiscountingBondEngine(spot_curve_handle)\n",
    "\n",
    "    # Calculate the bond price\n",
    "    bond.setPricingEngine(bond_engine)\n",
    "    bond_NPV = bond.NPV()\n",
    "\n",
    "    return bond_NPV"
   ]
  },
  {
   "cell_type": "code",
   "execution_count": 51,
   "metadata": {},
   "outputs": [
    {
     "name": "stdout",
     "output_type": "stream",
     "text": [
      "MAE = 0.0034333386173837077\n",
      "MAE_not_continious = 0.006582573611384035\n"
     ]
    }
   ],
   "source": [
    "s = 1\n",
    "t = 12\n",
    "r = 0.04\n",
    "sigma = 0.0037\n",
    "print(f'MAE = {P(s, t, r, a, sigma, yield_curve) - bond_price_ql(s, t, r)}')\n",
    "print(f'MAE_not_continious = {P_other(s, t, r, a, sigma, yield_curve) - bond_price_ql(s, t, r)}')"
   ]
  },
  {
   "cell_type": "markdown",
   "metadata": {},
   "source": [
    "## Swaps"
   ]
  },
  {
   "cell_type": "code",
   "execution_count": 52,
   "metadata": {},
   "outputs": [],
   "source": [
    "t = 0\n",
    "T_0 = 1\n",
    "T_m = 5\n",
    "notional = N = 1\n",
    "tenor = 1\n",
    "K = 0.03\n",
    "theta = lambda t: yield_curve.derivative(nu=1)(t) + (a*yield_curve(t)) + ((sigma**2)/(2*a))*(1-np.exp(-2*a*t))\n",
    "days_per_year = 360"
   ]
  },
  {
   "cell_type": "code",
   "execution_count": 53,
   "metadata": {},
   "outputs": [],
   "source": [
    "t = 0                # Point in time when we are looking for contract\n",
    "tenor = 1         # Semi-Annual settlement possibility, delta t_i\n",
    "T_0 = t + tenor         # Point in time when contract starts, in our case only structure where first payment is possible after a tenor is supported. (no custom no-call periods)\n",
    "T_m = 6         # Point in time when contract ends (Maturity)\n",
    "fixed_rate = 0.03       # Same as Strike Rate in simple options\n",
    "r0 = 0.03                # Initial Forward Interest Rate\n",
    "rates_example = np.ones(int(20.0*days_per_year))*r                 # Assume flat rates\n",
    "yield_curve_examples = CubicSpline(np.arange(int(20.0*days_per_year)), rates_example)\n",
    "sigma = 0.01\n",
    "a = 0.01"
   ]
  },
  {
   "cell_type": "code",
   "execution_count": 54,
   "metadata": {},
   "outputs": [],
   "source": [
    "def swap(t, T_0, T_m, notional, tenor, K, yield_curve, r, sigma, a):\n",
    "    summation = K * sum([P(t, i, r, a, sigma, yield_curve) for i in range(T_0 + tenor, T_m + tenor, tenor)])\n",
    "    floating = P(t, T_0, r, a, sigma, yield_curve) - P(t, T_m, r, a, sigma, yield_curve)\n",
    "    return -1 * notional * (floating - summation)"
   ]
  },
  {
   "cell_type": "code",
   "execution_count": 55,
   "metadata": {},
   "outputs": [
    {
     "name": "stdout",
     "output_type": "stream",
     "text": [
      "QuantLib Swap price is:  -0.002014746597965189\n"
     ]
    }
   ],
   "source": [
    "# Verifying values by running a simulation with the QuantLib (only works with flat curve)\n",
    "def swap_value_ql(t, T_0, T_m, fixed_rate, tenor, r0, notional):\n",
    "\n",
    "    # Setup the market and yield term structure\n",
    "    calendar = ql.TARGET()\n",
    "    day_count = ql.Actual365Fixed()\n",
    "    todays_date = ql.Date.todaysDate()\n",
    "    # Update the evaluation date\n",
    "    evaluation_date = todays_date + ql.Period(int(t*12), ql.Months)\n",
    "    ql.Settings.instance().evaluationDate = evaluation_date\n",
    "    flat_forward = ql.FlatForward(evaluation_date, r0, day_count)     # Flat rate curve\n",
    "    yield_curve_handle = ql.YieldTermStructureHandle(flat_forward)\n",
    "\n",
    "    # Swaption characteristics\n",
    "    # Define the fixed-rate leg\n",
    "    maturity_date = todays_date + ql.Period(int(T_m*12), ql.Months)\n",
    "    fixed_leg_tenor = ql.Period(int(tenor*12), ql.Months)\n",
    "    fixed_leg_schedule = ql.Schedule(todays_date+ql.Period(int(T_0*12), ql.Months), maturity_date, fixed_leg_tenor, calendar,\n",
    "                                    ql.ModifiedFollowing, ql.ModifiedFollowing,\n",
    "                                    ql.DateGeneration.Forward, False)\n",
    "\n",
    "    # Define the floating-rate leg\n",
    "    index = ql.IborIndex(\"CustomEuriborM\", ql.Period(int(tenor*12), ql.Months), 0, ql.EURCurrency(), calendar, ql.ModifiedFollowing, False, day_count, yield_curve_handle)\n",
    "    floating_leg_schedule = ql.Schedule(todays_date+ql.Period(int(T_0*12), ql.Months), maturity_date, index.tenor(), calendar,\n",
    "                                        ql.ModifiedFollowing, ql.ModifiedFollowing,\n",
    "                                        ql.DateGeneration.Forward, False)\n",
    "\n",
    "    # Create the swap\n",
    "    vanilla_swap = ql.VanillaSwap(ql.VanillaSwap.Receiver, N, fixed_leg_schedule,\n",
    "                                fixed_rate, day_count, floating_leg_schedule,\n",
    "                                index, 0.0, index.dayCounter())\n",
    "    vanilla_swap.setPricingEngine(ql.DiscountingSwapEngine(yield_curve_handle))\n",
    "\n",
    "    # Calculate the NPV\n",
    "    swap_NPV = vanilla_swap.NPV()\n",
    "    return notional * swap_NPV\n",
    "\n",
    "print(\"QuantLib Swap price is: \", swap_value_ql(t, T_0, T_m, K, tenor, r0, notional))"
   ]
  },
  {
   "cell_type": "code",
   "execution_count": 56,
   "metadata": {},
   "outputs": [
    {
     "name": "stdout",
     "output_type": "stream",
     "text": [
      "-0.0020174918349673276\n"
     ]
    }
   ],
   "source": [
    "print(swap(t, T_0, T_m, notional, tenor, K, yield_curve, r0, sigma, a))"
   ]
  },
  {
   "cell_type": "code",
   "execution_count": 57,
   "metadata": {},
   "outputs": [
    {
     "name": "stdout",
     "output_type": "stream",
     "text": [
      "MAE = -2.7452370021385786e-06\n"
     ]
    }
   ],
   "source": [
    "print(f'MAE = {swap(t, T_0, T_m, notional, tenor, K, yield_curve, r0, sigma, a) - swap_value_ql(t, T_0, T_m, K, tenor, r0, notional)}')"
   ]
  },
  {
   "cell_type": "code",
   "execution_count": 58,
   "metadata": {},
   "outputs": [],
   "source": [
    "relative_error = (swap(t, T_0, T_m, notional, tenor, K, yield_curve, r0, sigma, a) - swap_value_ql(t, T_0, T_m, K, tenor, r0, notional)) / swap_value_ql(t, T_0, T_m, K, tenor, r0, notional)"
   ]
  },
  {
   "cell_type": "code",
   "execution_count": 59,
   "metadata": {},
   "outputs": [
    {
     "name": "stdout",
     "output_type": "stream",
     "text": [
      "0.13625718514234766\n"
     ]
    }
   ],
   "source": [
    "print(relative_error * 100)"
   ]
  },
  {
   "cell_type": "markdown",
   "metadata": {},
   "source": [
    "## Swaption"
   ]
  },
  {
   "cell_type": "markdown",
   "metadata": {},
   "source": [
    "- LS\n",
    "- Benchmark\n",
    "- MC Simulation"
   ]
  },
  {
   "cell_type": "code",
   "execution_count": 60,
   "metadata": {},
   "outputs": [],
   "source": [
    "def swap_rate(T_0, T_m, tenor, s, t, r_s, a, sigma, yield_curve):\n",
    "    summation = sum([P(T_0, i, r, a, sigma, yield_curve) * tenor for i in range(T_0 + tenor, T_m + tenor, tenor)])\n",
    "    top = 1 - P(T_0, T_m, r, a, sigma, yield_curve)\n",
    "    return top / summation"
   ]
  },
  {
   "cell_type": "code",
   "execution_count": 61,
   "metadata": {},
   "outputs": [],
   "source": [
    "def swaption(T_0, T_m, notional, tenor, K, yield_curve, r0, sigma, a):\n",
    "    s_0 = swap_rate(T_0, T_m, tenor, s, t, r0, a, sigma, yield_curve)\n",
    "    annuity = sum([P(T_0, i, r, a, sigma, yield_curve) * tenor for i in range(T_0 + tenor, T_m + tenor, tenor)])\n",
    "    return notional * annuity * (s_0 - K)"
   ]
  },
  {
   "cell_type": "code",
   "execution_count": 62,
   "metadata": {},
   "outputs": [],
   "source": [
    "# s_0 = swap_rate(T_0, T_m, tenor, s, t, r0, a, sigma, yield_curve)"
   ]
  },
  {
   "cell_type": "code",
   "execution_count": 63,
   "metadata": {},
   "outputs": [],
   "source": [
    "PV_swaption = -1 * swaption(T_0, T_m, notional, tenor, K, yield_curve, r, sigma, a) * np.exp((t - T_0) * r0)"
   ]
  },
  {
   "cell_type": "code",
   "execution_count": 64,
   "metadata": {},
   "outputs": [
    {
     "name": "stdout",
     "output_type": "stream",
     "text": [
      "QuantLib Swap price is:  -0.046095779395846664\n"
     ]
    }
   ],
   "source": [
    "# Verifying values by running a simulation with the QuantLib (only works with flat curve)\n",
    "def swap_value_ql(t, T_0, T_m, fixed_rate, tenor, r0, notional):\n",
    "\n",
    "    # Setup the market and yield term structure\n",
    "    calendar = ql.TARGET()\n",
    "    day_count = ql.Actual365Fixed()\n",
    "    todays_date = ql.Date.todaysDate()\n",
    "    # Update the evaluation date\n",
    "    evaluation_date = todays_date + ql.Period(int(t*12), ql.Months)\n",
    "    ql.Settings.instance().evaluationDate = evaluation_date\n",
    "    flat_forward = ql.FlatForward(evaluation_date, r0, day_count)     # Flat rate curve\n",
    "    yield_curve_handle = ql.YieldTermStructureHandle(flat_forward)\n",
    "\n",
    "    # Swaption characteristics\n",
    "    # Define the fixed-rate leg\n",
    "    maturity_date = todays_date + ql.Period(int(T_m*12), ql.Months)\n",
    "    fixed_leg_tenor = ql.Period(int(tenor*12), ql.Months)\n",
    "    fixed_leg_schedule = ql.Schedule(todays_date+ql.Period(int(T_0*12), ql.Months), maturity_date, fixed_leg_tenor, calendar,\n",
    "                                    ql.ModifiedFollowing, ql.ModifiedFollowing,\n",
    "                                    ql.DateGeneration.Forward, False)\n",
    "\n",
    "    # Define the floating-rate leg\n",
    "    index = ql.IborIndex(\"CustomEuriborM\", ql.Period(int(tenor*12), ql.Months), 0, ql.EURCurrency(), calendar, ql.ModifiedFollowing, False, day_count, yield_curve_handle)\n",
    "    floating_leg_schedule = ql.Schedule(todays_date+ql.Period(int(T_0*12), ql.Months), maturity_date, index.tenor(), calendar,\n",
    "                                        ql.ModifiedFollowing, ql.ModifiedFollowing,\n",
    "                                        ql.DateGeneration.Forward, False)\n",
    "\n",
    "    # Create the swap\n",
    "    vanilla_swap = ql.VanillaSwap(ql.VanillaSwap.Receiver, notional, fixed_leg_schedule,\n",
    "                                fixed_rate, day_count, floating_leg_schedule,\n",
    "                                index, 0.0, index.dayCounter())\n",
    "    vanilla_swap.setPricingEngine(ql.DiscountingSwapEngine(yield_curve_handle))\n",
    "\n",
    "    # Calculate the NPV\n",
    "    swap_NPV = vanilla_swap.NPV()\n",
    "    return swap_NPV\n",
    "\n",
    "print(\"QuantLib Swap price is: \", swap_value_ql(t, T_0, T_m, fixed_rate, tenor, r, notional))"
   ]
  },
  {
   "cell_type": "code",
   "execution_count": 65,
   "metadata": {},
   "outputs": [
    {
     "name": "stdout",
     "output_type": "stream",
     "text": [
      "-0.046555364039593664\n"
     ]
    }
   ],
   "source": [
    "print(PV_swaption)"
   ]
  },
  {
   "cell_type": "code",
   "execution_count": 66,
   "metadata": {},
   "outputs": [
    {
     "name": "stdout",
     "output_type": "stream",
     "text": [
      "MAE = 0.00045958464374699914\n"
     ]
    }
   ],
   "source": [
    "print(f'MAE = {np.abs(PV_swaption - swap_value_ql(t, T_0, T_m, fixed_rate, tenor, r, notional))}')"
   ]
  },
  {
   "cell_type": "code",
   "execution_count": 67,
   "metadata": {},
   "outputs": [],
   "source": [
    "relative_error = (PV_swaption - swap_value_ql(t, T_0, T_m, fixed_rate, tenor, r, notional)) / swap_value_ql(t, T_0, T_m, fixed_rate, tenor, r, notional)"
   ]
  },
  {
   "cell_type": "code",
   "execution_count": 68,
   "metadata": {},
   "outputs": [
    {
     "name": "stdout",
     "output_type": "stream",
     "text": [
      "RE: 0.9970210934071086\n"
     ]
    }
   ],
   "source": [
    "print(f'RE: {relative_error * 100}')"
   ]
  },
  {
   "cell_type": "markdown",
   "metadata": {},
   "source": [
    "### Bermudan Price"
   ]
  },
  {
   "cell_type": "code",
   "execution_count": null,
   "metadata": {},
   "outputs": [],
   "source": []
  }
 ],
 "metadata": {
  "kernelspec": {
   "display_name": "Python 3",
   "language": "python",
   "name": "python3"
  },
  "language_info": {
   "codemirror_mode": {
    "name": "ipython",
    "version": 3
   },
   "file_extension": ".py",
   "mimetype": "text/x-python",
   "name": "python",
   "nbconvert_exporter": "python",
   "pygments_lexer": "ipython3",
   "version": "3.9.18"
  }
 },
 "nbformat": 4,
 "nbformat_minor": 2
}
