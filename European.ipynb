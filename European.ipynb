{
 "cells": [
  {
   "cell_type": "code",
   "execution_count": 10,
   "metadata": {},
   "outputs": [],
   "source": [
    "import numpy as np\n",
    "from numpy.polynomial import Polynomial, Laguerre\n",
    "import scipy.stats as stats\n",
    "from scipy.interpolate import CubicSpline\n",
    "from sklearn.preprocessing import PolynomialFeatures\n",
    "from sklearn.linear_model import Ridge\n",
    "import QuantLib as ql\n",
    "from multiprocess import Pool\n",
    "from tqdm import tqdm\n",
    "import matplotlib.pyplot as plt"
   ]
  },
  {
   "cell_type": "markdown",
   "metadata": {},
   "source": [
    "## Defining Yield Curve"
   ]
  },
  {
   "cell_type": "code",
   "execution_count": 11,
   "metadata": {},
   "outputs": [],
   "source": [
    "# Flat Yield Curve\n",
    "flat_yields = [\n",
    "    (0.5, .04),\n",
    "    (2.0, .04),\n",
    "    (5.0, .04),\n",
    "    (10.0, .04),\n",
    "]\n",
    "\n",
    "def create_yield_curve(yield_curve):\n",
    "    # Extract durations and yields\n",
    "    durations = [item[0] for item in yield_curve]\n",
    "    yields = [item[1] for item in yield_curve]\n",
    "\n",
    "    # Fit cubic spline\n",
    "    yield_curve = CubicSpline(durations, yields)\n",
    "    return yield_curve\n",
    "\n",
    "yield_curve = create_yield_curve(flat_yields)"
   ]
  },
  {
   "cell_type": "markdown",
   "metadata": {},
   "source": [
    "## Setting Up MC Simulation"
   ]
  },
  {
   "cell_type": "code",
   "execution_count": 12,
   "metadata": {},
   "outputs": [],
   "source": [
    "def get_short_rates(simulations, steps, dt, r0, a, sigma, theta, yield_curve):\n",
    "    def simulate_path(params):\n",
    "\n",
    "        _, Z, steps, dt, r0, a, sigma, theta, yield_curve = params\n",
    "\n",
    "        import numpy as np\n",
    "\n",
    "        theta = lambda t: yield_curve.derivative(nu=1)(t) + (a*yield_curve(t)) + ((sigma**2)/(2*a))*(1-np.exp(-2*a*t))\n",
    "        dr = np.zeros(steps)\n",
    "        r = np.zeros(steps)\n",
    "        r[0] = r0  # Initialize with the initial rate from the market\n",
    "        for t in range(1, steps):\n",
    "            dr[t] = (theta(t * dt) - a * r[t-1]) * dt + sigma * np.sqrt(dt) * Z[t]\n",
    "            r[t] = r[t-1] + dr[t]\n",
    "        return r\n",
    "\n",
    "    # Use multiprocess to run simulations in parallel\n",
    "    # Generating all the random numbers at the same moment to reduce variance + Using Antitheti Variables\n",
    "    random_part_1 = np.random.normal(0, 1, size=(int(simulations/2), steps))    \n",
    "    random_part_2 = -random_part_1\n",
    "    random_z = np.vstack((random_part_1, random_part_2))\n",
    "    simulation_params = [(i, random_z[i,:], steps, dt, r0, a, sigma, theta, yield_curve) for i in range(simulations)]\n",
    "\n",
    "    # Run in Parallel\n",
    "    with Pool() as pool:\n",
    "        short_rate_paths = pool.map(simulate_path, simulation_params)\n",
    "\n",
    "    return np.array(short_rate_paths)"
   ]
  },
  {
   "cell_type": "code",
   "execution_count": 13,
   "metadata": {},
   "outputs": [],
   "source": [
    "def get_forward_rates(simulations, months_per_year, dt, T_m, tenor, short_rate_paths):\n",
    "    # Finding forward rates based on the simulated short rates\n",
    "    forward_rate_paths_regression = []\n",
    "    for simulation in range(simulations):\n",
    "        forward_rates_temp = []\n",
    "        for t in np.arange(0.0, T_m, tenor):\n",
    "            # To be clear what is counted where, made variables as explicit as possible\n",
    "            start_id = int(months_per_year*t)\n",
    "            finish_id = int(months_per_year*(t+tenor))\n",
    "            forward_rate = np.sum(short_rate_paths[simulation, start_id:finish_id]*dt)  # Using Reimann sum to approximate the integral for rates for correct time period\n",
    "            forward_rates_temp.append(forward_rate)\n",
    "        forward_rate_paths_regression.append(forward_rates_temp)\n",
    "    return (np.array(forward_rate_paths_regression))         # discounting value for each period between tenors"
   ]
  },
  {
   "cell_type": "code",
   "execution_count": 14,
   "metadata": {},
   "outputs": [],
   "source": [
    "def get_simulations_swap_values(simulations, months_per_year, T_m, tenor, N, fixed_rate, short_rate_paths, yield_curve, a, sigma):\n",
    "    # Swap Values calculator\n",
    "    def sim_swap_eval(params):\n",
    "        _, months_per_year, T_m, tenor, N, fixed_rate, short_rate_path, yield_curve, a, sigma = params\n",
    "\n",
    "        import numpy as np\n",
    "\n",
    "        # Bond Evaluation\n",
    "        def P(s, t, r_s, a, sigma, yield_curve):\n",
    "\n",
    "            def A(s, t, a, sigma, yield_curve):   \n",
    "                P_0_t = np.exp(-yield_curve(t)*t)     # Value of Zero Coupon Bond (0,t)\n",
    "                P_0_s = np.exp(-yield_curve(s)*s)     # Value of Zero Coupon Bond (0,s)\n",
    "                term1 = P_0_t/P_0_s                 \n",
    "                term2 = B(s, t, a) * yield_curve(s) # B * Instantenious Forward Rate\n",
    "                term3 = (sigma**2/(4*a)) * B(s,t,a)**2 * (1-np.exp(-2*a*s))\n",
    "                return term1*np.exp(term2-term3)\n",
    "\n",
    "            def B(s, t, a):\n",
    "                return 1/a * (1 - np.exp(a * (s - t)))\n",
    "                \n",
    "            return A(s, t, a, sigma, yield_curve) * np.exp(-B(s, t, a) * r_s)     # Short rate and initial rate are the same here\n",
    "        # Swap Evaluation\n",
    "        def V(months_per_year, t, T_0, T_m, N, fixed_rate, tenor, rates, a, sigma, yield_curve):\n",
    "            term1 = P(t, T_0, rates[int(months_per_year*t)], a, sigma, yield_curve)\n",
    "            term2 = P(t, T_m, rates[int(months_per_year*t)], a, sigma, yield_curve)\n",
    "            term3 = 0\n",
    "            for T_i in np.arange(T_0+tenor, T_m+tenor, tenor):       # For all intermediate and last one payout dates (np.arange does not include m)\n",
    "                term3 += P(t, T_i, rates[int(months_per_year*t)],  a, sigma, yield_curve) * tenor\n",
    "            return -N*(term1 - term2 - fixed_rate*term3)     # (we are buying swaption) Only put makes sense, otherwise pointless to exercise early\n",
    "\n",
    "        # Finding Swap Value for each possible exercise point\n",
    "        swap_values = []\n",
    "        for t in np.arange(tenor, T_m, tenor):     # Because of delay on starting of payments, we have less entries (Last one must be a tenor before Maturity)\n",
    "            swap_values.append(V(months_per_year, t, t, T_m, N, fixed_rate, tenor, short_rate_path, a, sigma, yield_curve))\n",
    "        return (swap_values)\n",
    "\n",
    "    # Use multiprocess to run simulations in parallel\n",
    "    simulation_params = [(i, months_per_year, T_m, tenor, N, fixed_rate, short_rate_paths[i], yield_curve, a, sigma) for i in range(simulations)]\n",
    "    # Run in Parallel\n",
    "    with Pool() as pool:\n",
    "        simulations_swap_values = pool.map(sim_swap_eval, simulation_params)\n",
    "\n",
    "    return np.array(simulations_swap_values)"
   ]
  },
  {
   "cell_type": "markdown",
   "metadata": {},
   "source": [
    "## Calculating European Swaption Value"
   ]
  },
  {
   "cell_type": "code",
   "execution_count": 15,
   "metadata": {},
   "outputs": [],
   "source": [
    "def get_fair_value_ql(T_m, tenor, a, sigma, fixed_rate, r0):\n",
    "    # Setup the market and yield term structure\n",
    "    calendar = ql.TARGET()\n",
    "    day_count = ql.Actual365Fixed()\n",
    "    todays_date = ql.Date(1, 1, 2023)\n",
    "    ql.Settings.instance().evaluationDate = todays_date\n",
    "    flat_forward = ql.FlatForward(todays_date, r0, day_count)     # Flat rate curve\n",
    "    yield_curve_handle = ql.YieldTermStructureHandle(flat_forward)\n",
    "\n",
    "    # Swaption characteristics\n",
    "    # Define the fixed-rate leg\n",
    "    start_date = todays_date\n",
    "    maturity_date = todays_date + ql.Period(int(T_m*12), ql.Months)\n",
    "    fixed_leg_tenor = ql.Period(int(tenor*12), ql.Months)\n",
    "    fixed_leg_schedule = ql.Schedule(start_date, maturity_date, fixed_leg_tenor, calendar,\n",
    "                                    ql.ModifiedFollowing, ql.ModifiedFollowing,\n",
    "                                    ql.DateGeneration.Forward, False)\n",
    "\n",
    "    # Define the floating-rate leg\n",
    "    index = ql.IborIndex(\"CustomEuriborM\", ql.Period(int(tenor*12), ql.Months), 0, ql.EURCurrency(), calendar, ql.ModifiedFollowing, False, day_count, yield_curve_handle)\n",
    "    floating_leg_schedule = ql.Schedule(start_date, maturity_date, index.tenor(), calendar,\n",
    "                                        ql.ModifiedFollowing, ql.ModifiedFollowing,\n",
    "                                        ql.DateGeneration.Forward, False)\n",
    "\n",
    "    # Define the swaption\n",
    "    hull_white_model = ql.HullWhite(yield_curve_handle, a, sigma)\n",
    "\n",
    "    # Setup the pricing engine\n",
    "    engine = ql.TreeSwaptionEngine(hull_white_model, 200)\n",
    "\n",
    "    # # Define the European swaption    (Outputs same value as swap)\n",
    "    exercise = ql.EuropeanExercise(todays_date + ql.Period(int(tenor*12), ql.Months))       # Very small period is necessary, otherwise output is zero\n",
    "\n",
    "    european_swaption = ql.Swaption(ql.VanillaSwap(ql.VanillaSwap.Receiver, 1.0, fixed_leg_schedule,\n",
    "                                        fixed_rate, day_count, floating_leg_schedule,\n",
    "                                        index, 0.0, index.dayCounter()), exercise)\n",
    "    \n",
    "    # Setup the pricing engine for European swaption\n",
    "    european_swaption.setPricingEngine(engine)\n",
    "    european_swaption_npv = european_swaption.NPV()\n",
    "    # print(\"QuantLib European Swaption price is: \", european_swaption_npv)\n",
    "    return european_swaption_npv"
   ]
  },
  {
   "cell_type": "code",
   "execution_count": 16,
   "metadata": {},
   "outputs": [],
   "source": [
    "def price_european_MC(swap_values, T_n, forward_rates):\n",
    "    positive_swaps = list()\n",
    "    for i in range(len(swap_values)):\n",
    "        if swap_values[i] > 0:\n",
    "            disc_rate = np.sum(forward_rates[i, :int(T_n)+1])\n",
    "            positive_swaps.append(swap_values[i]* np.exp(- disc_rate))\n",
    "        else:\n",
    "            positive_swaps.append(0)\n",
    "    return sum(positive_swaps) / len(swap_values)"
   ]
  },
  {
   "cell_type": "markdown",
   "metadata": {},
   "source": [
    "## Checking Correctness of Results"
   ]
  },
  {
   "cell_type": "code",
   "execution_count": 17,
   "metadata": {},
   "outputs": [],
   "source": [
    "# Parameters\n",
    "T = 10                      # Years of Simulation\n",
    "months_per_year = 12         # Days in the Year\n",
    "steps = int(T*months_per_year)    # Number of steps\n",
    "dt = 1.0 * T / steps            # Time step size\n",
    "simulations = 20_000        # Amount of Monte Carlo runs\n",
    "r0 = 0.04\n",
    "\n",
    "# Parameters for the Hull-White model\n",
    "a = 0.01\n",
    "sigma = 0.01\n",
    "theta_normal = lambda t: yield_curve.derivative(nu=1)(t) + (a*yield_curve(t)) + ((sigma**2)/(2*a))*(1-np.exp(-2*a*t))\n",
    "\n",
    "# Swaption parameters\n",
    "T_m = 10.0              # Maximum duration of swaption (Maturity)\n",
    "tenor = 0.5            # Semi-Annual settlements (First settlement is assumed to be possible after this period too)\n",
    "N = 1                   # Notional Amount\n",
    "fixed_rate = 0.04"
   ]
  },
  {
   "cell_type": "code",
   "execution_count": 18,
   "metadata": {},
   "outputs": [
    {
     "name": "stdout",
     "output_type": "stream",
     "text": [
      "Fixed Rate =  0.032\n",
      "Absolute Difference 1.218966704170368e-05\n",
      "Relative Difference 0.0043262034853047355\n",
      "\n",
      "\n",
      "Fixed Rate =  0.036000000000000004\n",
      "Absolute Difference 9.66639488145047e-05\n",
      "Relative Difference 0.011690649382319052\n",
      "\n",
      "\n",
      "Fixed Rate =  0.04\n",
      "Absolute Difference 0.0002506586210402513\n",
      "Relative Difference 0.012921263184743684\n",
      "\n",
      "\n",
      "Fixed Rate =  0.044\n",
      "Absolute Difference 0.00026238291635830024\n",
      "Relative Difference 0.006999845495693887\n",
      "\n",
      "\n",
      "Fixed Rate =  0.048\n",
      "Absolute Difference 0.00012061594205124704\n",
      "Relative Difference 0.001953533452585574\n",
      "\n",
      "\n"
     ]
    }
   ],
   "source": [
    "# Simulate Monte Carlo Paths\n",
    "normal_rates = get_short_rates(simulations, steps, dt, r0, a, sigma, theta_normal, yield_curve)\n",
    "forward_rate_normal = get_forward_rates(simulations, months_per_year, dt, T_m, tenor, normal_rates)\n",
    "\n",
    "fixed_rates = np.linspace(0.032, 0.048, 5)\n",
    "for strike_rate in fixed_rates:\n",
    "    swap_values = get_simulations_swap_values(simulations, months_per_year, T_m, tenor, N, strike_rate, normal_rates, yield_curve, a, sigma)[:,0]\n",
    "    sim_value = price_european_MC(swap_values, tenor, forward_rate_normal)\n",
    "\n",
    "    ql_value = get_fair_value_ql(T_m, tenor, a, sigma, strike_rate, r0)\n",
    "\n",
    "    print(\"Fixed Rate = \", strike_rate)\n",
    "    print(\"Absolute Difference\", np.abs(sim_value - ql_value))\n",
    "    print(\"Relative Difference\", np.abs(sim_value - ql_value) / ql_value)\n",
    "    print(\"\\n\")"
   ]
  }
 ],
 "metadata": {
  "kernelspec": {
   "display_name": "Python 3",
   "language": "python",
   "name": "python3"
  },
  "language_info": {
   "codemirror_mode": {
    "name": "ipython",
    "version": 3
   },
   "file_extension": ".py",
   "mimetype": "text/x-python",
   "name": "python",
   "nbconvert_exporter": "python",
   "pygments_lexer": "ipython3",
   "version": "3.9.18"
  }
 },
 "nbformat": 4,
 "nbformat_minor": 2
}
