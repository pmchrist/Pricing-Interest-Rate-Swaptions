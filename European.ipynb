{
 "cells": [
  {
   "cell_type": "code",
   "execution_count": 1,
   "metadata": {},
   "outputs": [],
   "source": [
    "import numpy as np\n",
    "from numpy.polynomial import Polynomial, Laguerre\n",
    "import scipy.stats as stats\n",
    "from scipy.interpolate import CubicSpline\n",
    "from sklearn.preprocessing import PolynomialFeatures\n",
    "from sklearn.linear_model import Ridge\n",
    "import QuantLib as ql\n",
    "from multiprocess import Pool\n",
    "from tqdm import tqdm\n",
    "import matplotlib.pyplot as plt"
   ]
  },
  {
   "cell_type": "code",
   "execution_count": 2,
   "metadata": {},
   "outputs": [],
   "source": [
    "# Flat Yield Curve\n",
    "flat_yields = [\n",
    "    (0.5, .03),\n",
    "    (2.0, .03),\n",
    "    (5.0, .03),\n",
    "    (10.0, .03),\n",
    "]"
   ]
  },
  {
   "cell_type": "code",
   "execution_count": 5,
   "metadata": {},
   "outputs": [],
   "source": [
    "def create_yield_curve(yield_curve):\n",
    "    # Extract durations and yields\n",
    "    durations = [item[0] for item in yield_curve]\n",
    "    yields = [item[1] for item in yield_curve]\n",
    "\n",
    "    # Fit cubic spline\n",
    "    yield_curve = CubicSpline(durations, yields)\n",
    "    return yield_curve"
   ]
  },
  {
   "cell_type": "code",
   "execution_count": 6,
   "metadata": {},
   "outputs": [],
   "source": [
    "yield_curve = create_yield_curve(flat_yields)"
   ]
  },
  {
   "cell_type": "code",
   "execution_count": 7,
   "metadata": {},
   "outputs": [],
   "source": [
    "def get_short_rates(simulations, steps, dt, r0, a, sigma, theta, yield_curve):\n",
    "    def simulate_path(params):\n",
    "\n",
    "        _, steps, dt, r0, a, sigma, theta, yield_curve = params\n",
    "\n",
    "        import numpy as np\n",
    "        np.random.seed(_)       # So that values in each processor is unique\n",
    "\n",
    "        theta = lambda t: yield_curve.derivative(nu=1)(t) + (a*yield_curve(t)) + ((sigma**2)/(2*a))*(1-np.exp(-2*a*t))\n",
    "        Z = np.random.normal(0, 1, steps)\n",
    "        dr = np.zeros(steps)\n",
    "        r = np.zeros(steps)\n",
    "        r[0] = r0  # Initialize with the initial rate from the market\n",
    "        for t in range(1, steps):\n",
    "            dr[t] = (theta(t * dt) - a * r[t-1]) * dt + sigma * np.sqrt(dt) * Z[t]\n",
    "            r[t] = r[t-1] + dr[t]\n",
    "        return r\n",
    "\n",
    "    # Use multiprocess to run simulations in parallel\n",
    "    simulation_params = [(np.random.randint((i+10)*100), steps, dt, r0, a, sigma, theta, yield_curve) for i in range(simulations)]     # PseudoRandom Seed\n",
    "\n",
    "    # Run in Parallel\n",
    "    with Pool() as pool:\n",
    "        short_rate_paths = pool.map(simulate_path, simulation_params)\n",
    "\n",
    "    return np.array(short_rate_paths)"
   ]
  },
  {
   "cell_type": "code",
   "execution_count": 8,
   "metadata": {},
   "outputs": [],
   "source": [
    "def get_forward_rates(simulations, days_per_year, dt, T_m, tenor, short_rate_paths):\n",
    "    # Finding forward rates based on the simulated short rates\n",
    "    forward_rate_paths_regression = []\n",
    "    for simulation in range(simulations):\n",
    "        forward_rates_temp = []\n",
    "        for t in np.arange(0.0, T_m, tenor):\n",
    "            # To be clear what is counted where, made variables as explicit as possible\n",
    "            start_id = int(days_per_year*t)\n",
    "            finish_id = int(days_per_year*(t+tenor))\n",
    "            forward_rate = np.sum(short_rate_paths[simulation, start_id:finish_id]*dt)  # Using Reimann sum to approximate the integral for rates for correct time period\n",
    "            forward_rates_temp.append(forward_rate)\n",
    "        forward_rate_paths_regression.append(forward_rates_temp)\n",
    "    return (np.array(forward_rate_paths_regression))"
   ]
  },
  {
   "cell_type": "code",
   "execution_count": 84,
   "metadata": {},
   "outputs": [],
   "source": [
    "# Parameters\n",
    "T = 10                      # Years of Simulation\n",
    "days_per_year = 365         # Days in the Year\n",
    "steps = int(T*days_per_year)    # Number of steps\n",
    "dt = 1.0 * T / steps            # Time step size\n",
    "simulations = 10000        # Amount of Monte Carlo runs\n",
    "r0 = 0.03\n",
    "\n",
    "# Parameters for the Hull-White model\n",
    "a = 0.01\n",
    "sigma = 0.01\n",
    "theta_normal = lambda t: yield_curve.derivative(nu=1)(t) + (a*yield_curve(t)) + ((sigma**2)/(2*a))*(1-np.exp(-2*a*t))\n",
    "\n",
    "# Swaption parameters\n",
    "T_m = 6.0              # Maximum duration of swaption (Maturity)\n",
    "tenor = 1.0            # Semi-Annual settlements (First settlement is assumed to be possible after this period too)\n",
    "N = 1                   # Notional Amount\n",
    "fixed_rate = 0.03"
   ]
  },
  {
   "cell_type": "code",
   "execution_count": 85,
   "metadata": {},
   "outputs": [],
   "source": [
    "normal_rates = get_short_rates(simulations, steps, dt, r0, a, sigma, theta_normal, yield_curve)"
   ]
  },
  {
   "cell_type": "code",
   "execution_count": 86,
   "metadata": {},
   "outputs": [],
   "source": [
    "forward_rate_normal = get_forward_rates(simulations, days_per_year, dt, T_m, tenor, normal_rates)"
   ]
  },
  {
   "cell_type": "code",
   "execution_count": 72,
   "metadata": {},
   "outputs": [],
   "source": [
    "def get_simulations_swap_values(simulations, days_per_year, T_m, tenor, N, fixed_rate, short_rate_paths, yield_curve, a, sigma):\n",
    "    # Swap Values calculator\n",
    "    def sim_swap_eval(params):\n",
    "        _, days_per_year, T_m, tenor, N, fixed_rate, short_rate_path, yield_curve, a, sigma = params\n",
    "\n",
    "        import numpy as np\n",
    "\n",
    "        # Bond Evaluation\n",
    "        def P(s, t, r_s, a, sigma, yield_curve):\n",
    "\n",
    "            def A(s, t, a, sigma, yield_curve):\n",
    "                P_0_t = np.exp(-yield_curve(t)*t)     # Value of Zero Coupon Bond (0,t)\n",
    "                P_0_s = np.exp(-yield_curve(s)*s)     # Value of Zero Coupon Bond (0,s)\n",
    "                term1 = P_0_t/P_0_s\n",
    "                term2 = B(s, t, a) * yield_curve(s) # B * Instantenious Forward Rate\n",
    "                term3 = (sigma**2/(4*a)) * B(s,t,a)**2 * (1-np.exp(-2*a*s))\n",
    "                return term1*np.exp(term2-term3)\n",
    "\n",
    "            def B(s, t, a):\n",
    "                return 1/a * (1 - np.exp(a * (s - t)))\n",
    "\n",
    "            return A(s, t, a, sigma, yield_curve) * np.exp(-B(s, t, a) * r_s)     # Short rate and initial rate are the same here\n",
    "        # Swap Evaluation\n",
    "        def V(days_per_year, t, T_0, T_m, N, fixed_rate, tenor, rates, a, sigma, yield_curve):\n",
    "            term1 = P(t, T_0, rates[int(days_per_year*t)], a, sigma, yield_curve)\n",
    "            term2 = P(t, T_m, rates[int(days_per_year*t)], a, sigma, yield_curve)\n",
    "            term3 = 0\n",
    "            for T_i in np.arange(T_0+tenor, T_m+tenor, tenor):       # For all intermediate and last one payout dates (np.arange does not include m)\n",
    "                term3 += P(t, T_i, rates[int(days_per_year*t)],  a, sigma, yield_curve) * tenor\n",
    "            return -N*(term1 - term2 - fixed_rate*term3)     # (we are buying swaption) Only put makes sense, otherwise pointless to exercise early\n",
    "\n",
    "        # Finding Swap Value for each possible exercise point\n",
    "        swap_values = []\n",
    "        for t in np.arange(tenor, T_m, tenor):     # Because of delay on starting of payments, we have less entries (Last one must be a tenor before Maturity)\n",
    "            swap_values.append(V(days_per_year, t, t, T_m, N, fixed_rate, tenor, short_rate_path, a, sigma, yield_curve))\n",
    "        return (swap_values)\n",
    "\n",
    "    # Use multiprocess to run simulations in parallel\n",
    "    simulation_params = [(i, days_per_year, T_m, tenor, N, fixed_rate, short_rate_paths[i], yield_curve, a, sigma) for i in range(simulations)]\n",
    "    # Run in Parallel\n",
    "    with Pool() as pool:\n",
    "        simulations_swap_values = pool.map(sim_swap_eval, simulation_params)\n",
    "    return np.array(simulations_swap_values)"
   ]
  },
  {
   "cell_type": "code",
   "execution_count": 60,
   "metadata": {},
   "outputs": [],
   "source": [
    "def LSM(simulations_swap_values, forward_rate_paths_regression, short_rate_paths, days_per_year, tenor, simulations, ridge_a=1.0, method=\"Laguerre\", degree=3, visualize_regression=True):\n",
    "    # Independent Variable for Regression (For first step it is just a discounted value of swap at the maturity (Discounted Realized Cashflow))\n",
    "    expected_cashflow = simulations_swap_values[:, -1] * np.exp(-forward_rate_paths_regression[:, -1])\n",
    "    expected_cashflow[np.where(simulations_swap_values[:, -1] < 0)] = 0.0      # If swap is not In Money, we just let it expire\n",
    "\n",
    "    # Matrix of points where we exercise\n",
    "    realization_matrix = np.zeros(simulations_swap_values.shape)\n",
    "    realization_matrix[np.where(simulations_swap_values[:, -1] > 0), -1] = 1.0      # At last point we exercise if in money\n",
    "\n",
    "    for i in range(simulations_swap_values.shape[1]-2, -1, -1):              # Starting from the back\n",
    "        # For last 2 points the value is 0, no possible legs left\n",
    "        # On last point we do not regress because the value is same as just swap\n",
    "        # On 0th regression, the short rate at t=0 is the same for all paths\n",
    "        ids_to_fit = np.where(simulations_swap_values[:, i] > 0)[0]         # Creating mask to regress only \"in money\" swaps\n",
    "        if len(ids_to_fit) > 2:     # So that we can fit a line for prediction\n",
    "            if method == \"Ridge\":\n",
    "                Y = expected_cashflow[ids_to_fit].reshape(-1, 1)  # It is already discounted\n",
    "                X_pred = short_rate_paths[ids_to_fit, int(days_per_year * (tenor * i + tenor))].reshape(-1, 1)  # Dependent variable is our short rate\n",
    "                # Fit the Linear Regression model to the polynomial features\n",
    "                poly = PolynomialFeatures(degree=degree)\n",
    "                X_poly = poly.fit_transform(X_pred)\n",
    "                model = Ridge(alpha=ridge_a).fit(X_poly, Y)\n",
    "                # Predict using the polynomial features\n",
    "                continuation_values = model.predict(poly.transform(short_rate_paths[ids_to_fit, int(days_per_year * (tenor * i + tenor))].reshape(-1, 1)))\n",
    "\n",
    "            else:\n",
    "                # Getting continuation Values\n",
    "                Y = expected_cashflow[ids_to_fit].flatten()             # It is already discounted\n",
    "                X_pred = short_rate_paths[ids_to_fit, int(days_per_year * (tenor * i + tenor))].flatten()      # Dependent variable is our short rate\n",
    "                if method == \"Polynomial\":\n",
    "                    model = Polynomial.fit(X_pred, Y, deg=degree)\n",
    "                if method == \"Laguerre\":\n",
    "                    model = Laguerre.fit(X_pred, Y, deg=degree)\n",
    "                X_test = short_rate_paths[ids_to_fit, int(days_per_year * (tenor * i + tenor))].flatten()       # We need + tenor so that we offshift values to match T_0\n",
    "                continuation_values = model(X_test)\n",
    "\n",
    "        # Creating independent variable for the next iteration\n",
    "        expected_cashflow_temp = np.zeros(simulations)\n",
    "        for k in range(simulations):   # For each path we should find out if it is better to exercise or not\n",
    "            if k in ids_to_fit:             # If there is any update to value during regression\n",
    "                if simulations_swap_values[k, i] > continuation_values[np.where(ids_to_fit==k)] and simulations_swap_values[k, i] > 0:\n",
    "                    expected_cashflow_temp[k] = simulations_swap_values[k, i] * np.exp(-forward_rate_paths_regression[k, i+1])        # We exercise and keep this value, i+1 because we have 1 more value in the beginnign for forward rates\n",
    "                    realization_matrix[k,i] = 1.0           # For future reference\n",
    "                    realization_matrix[k,i+1:] = 0.0        # Delete all older subsequent realizations, we keep only the earliest\n",
    "                else:                       # keep the value same otherwise, discounted\n",
    "                    expected_cashflow_temp[k] = expected_cashflow[k] * np.exp(-forward_rate_paths_regression[k, i+1])\n",
    "            else:                           # keep the value same otherwise, discounted\n",
    "                expected_cashflow_temp[k] = expected_cashflow[k] * np.exp(-forward_rate_paths_regression[k, i+1])\n",
    "        expected_cashflow = expected_cashflow_temp\n",
    "\n",
    "    if visualize_regression: print(\"Final Realization Matrix\\n\", realization_matrix)\n",
    "\n",
    "    return realization_matrix"
   ]
  },
  {
   "cell_type": "code",
   "execution_count": 61,
   "metadata": {},
   "outputs": [],
   "source": [
    "def get_fair_value(realization_matrix, simulations_swap_values, forward_rate_paths_regression, simulations):\n",
    "\n",
    "    # Arrays to hold values of best exercise periods\n",
    "    max_indexes = []\n",
    "    max_values = []\n",
    "    sim_id = []\n",
    "\n",
    "    fair_values_t = []\n",
    "    for sim in range(simulations):\n",
    "        # Finding max value in array\n",
    "\n",
    "        # If path was never exercized, i.e. its value is less than zero, we just let it expire worthless\n",
    "        if realization_matrix[sim][0] == 1:\n",
    "\n",
    "            # max_index = np.argmax(realization_matrix[sim])\n",
    "            # max_value = simulations_swap_values[sim][max_index]\n",
    "\n",
    "            # Used for later visualization\n",
    "            # sim_id.append(sim)\n",
    "            # max_indexes.append(max_index)\n",
    "            max_values.append(realization_matrix[sim][0])\n",
    "\n",
    "            # Discounting swaps values at optimal execution points\n",
    "            #disc_rate = np.sum(forward_rate_paths_regression[sim, :(max_index+1)])\n",
    "            disc_rate = np.sum(forward_rate_paths_regression[sim, :(0+2)])\n",
    "\n",
    "            max_value_fair = realization_matrix[sim][0]*np.exp(-disc_rate)\n",
    "            fair_values_t.append(max_value_fair)\n",
    "\n",
    "    fair_value_t = np.sum(fair_values_t)/simulations\n",
    "\n",
    "    #return fair_value_t*np.exp(-r0*tenor), max_indexes, max_values, sim_id\n",
    "    return fair_value_t, max_indexes, max_values, sim_id"
   ]
  },
  {
   "cell_type": "code",
   "execution_count": 62,
   "metadata": {},
   "outputs": [],
   "source": [
    "simulations_swap_values = get_simulations_swap_values(simulations, days_per_year, T_m, tenor, N, fixed_rate, normal_rates, yield_curve, a, sigma)\n",
    "realization_matrix = LSM(simulations_swap_values, forward_rate_normal, normal_rates, days_per_year, tenor, simulations, method=\"Laguerre\", degree=3, visualize_regression=False)                 # Wiggly, predicts well\n",
    "european, _, _, _ = get_fair_value(realization_matrix, simulations_swap_values, forward_rate_normal, simulations)"
   ]
  },
  {
   "cell_type": "code",
   "execution_count": 63,
   "metadata": {},
   "outputs": [
    {
     "data": {
      "text/plain": [
       "array([[0., 0., 0., 0., 0.],\n",
       "       [0., 1., 0., 0., 0.],\n",
       "       [0., 0., 0., 0., 0.],\n",
       "       ...,\n",
       "       [1., 0., 0., 0., 0.],\n",
       "       [0., 1., 0., 0., 0.],\n",
       "       [0., 0., 0., 0., 0.]])"
      ]
     },
     "execution_count": 63,
     "metadata": {},
     "output_type": "execute_result"
    }
   ],
   "source": [
    "realization_matrix"
   ]
  },
  {
   "cell_type": "code",
   "execution_count": 64,
   "metadata": {},
   "outputs": [
    {
     "data": {
      "text/plain": [
       "0.15292275009767842"
      ]
     },
     "execution_count": 64,
     "metadata": {},
     "output_type": "execute_result"
    }
   ],
   "source": [
    "european"
   ]
  },
  {
   "cell_type": "code",
   "execution_count": 96,
   "metadata": {},
   "outputs": [
    {
     "data": {
      "text/plain": [
       "0.036"
      ]
     },
     "execution_count": 96,
     "metadata": {},
     "output_type": "execute_result"
    }
   ],
   "source": [
    "0.03 * 1.2"
   ]
  },
  {
   "cell_type": "code",
   "execution_count": 109,
   "metadata": {},
   "outputs": [],
   "source": [
    "swap_values = get_simulations_swap_values(simulations, days_per_year, T_m, tenor, N, 0.036, normal_rates, yield_curve, a, sigma)[:,0]"
   ]
  },
  {
   "cell_type": "code",
   "execution_count": 76,
   "metadata": {},
   "outputs": [
    {
     "data": {
      "text/plain": [
       "array([0.03425175])"
      ]
     },
     "execution_count": 76,
     "metadata": {},
     "output_type": "execute_result"
    }
   ],
   "source": [
    "forward_rate_normal[0, :1]"
   ]
  },
  {
   "cell_type": "code",
   "execution_count": 88,
   "metadata": {},
   "outputs": [],
   "source": [
    "def price_european_MC(swap_values, T_n, forward_rates):\n",
    "    positive_swaps = list()\n",
    "    for i in range(len(swap_values)):\n",
    "        if swap_values[i] > 0:\n",
    "            disc_rate = np.sum(forward_rates[i, int(T_n)])\n",
    "            positive_swaps.append(swap_values[i]* np.exp(- disc_rate))\n",
    "        else:\n",
    "            positive_swaps.append(0)\n",
    "    return sum(positive_swaps) / len(swap_values)"
   ]
  },
  {
   "cell_type": "code",
   "execution_count": 110,
   "metadata": {},
   "outputs": [
    {
     "data": {
      "text/plain": [
       "0.032587536941098"
      ]
     },
     "execution_count": 110,
     "metadata": {},
     "output_type": "execute_result"
    }
   ],
   "source": [
    "price_european_MC(swap_values, tenor, forward_rate_normal)"
   ]
  },
  {
   "cell_type": "code",
   "execution_count": 66,
   "metadata": {},
   "outputs": [],
   "source": [
    "def get_fair_value_ql(T_m, tenor, days_per_year, a, sigma, fixed_rate, r0):\n",
    "    # Setup the market and yield term structure\n",
    "    calendar = ql.TARGET()\n",
    "    day_count = ql.Actual365Fixed()\n",
    "    todays_date = ql.Date.todaysDate()\n",
    "    ql.Settings.instance().evaluationDate = todays_date\n",
    "    flat_forward = ql.FlatForward(todays_date, r0, day_count)     # Flat rate curve\n",
    "    yield_curve_handle = ql.YieldTermStructureHandle(flat_forward)\n",
    "\n",
    "    # Swaption characteristics\n",
    "    # Define the fixed-rate leg\n",
    "    start_date = todays_date + ql.Period(int(tenor*days_per_year), ql.Days)\n",
    "    maturity_date = todays_date + ql.Period(int(T_m*days_per_year), ql.Days) + ql.Period(int(tenor*days_per_year), ql.Days)\n",
    "    fixed_leg_tenor = ql.Period(int(tenor*days_per_year), ql.Days)\n",
    "    fixed_leg_schedule = ql.Schedule(start_date, maturity_date, fixed_leg_tenor, calendar,\n",
    "                                    ql.ModifiedFollowing, ql.ModifiedFollowing,\n",
    "                                    ql.DateGeneration.Forward, False)\n",
    "\n",
    "    # Define the floating-rate leg\n",
    "    index = ql.IborIndex(\"CustomEuriborM\", ql.Period(int(tenor*days_per_year), ql.Days), 0, ql.EURCurrency(), calendar, ql.ModifiedFollowing, False, day_count, yield_curve_handle)\n",
    "    floating_leg_schedule = ql.Schedule(start_date, maturity_date, index.tenor(), calendar,\n",
    "                                        ql.ModifiedFollowing, ql.ModifiedFollowing,\n",
    "                                        ql.DateGeneration.Forward, False)\n",
    "\n",
    "    # Define the swaption\n",
    "    hull_white_model = ql.HullWhite(yield_curve_handle, a, sigma)\n",
    "\n",
    "    # Setup the pricing engine\n",
    "    engine = ql.TreeSwaptionEngine(hull_white_model, 200)\n",
    "\n",
    "    # # Define the European swaption    (Outputs same value as swap)\n",
    "    exercise = ql.EuropeanExercise(start_date)       # Very small period is necessary, otherwise output is zero\n",
    "    european_swaption = ql.Swaption(ql.VanillaSwap(ql.VanillaSwap.Receiver, N, fixed_leg_schedule,\n",
    "                                          fixed_rate, day_count, floating_leg_schedule,\n",
    "                                          index, 0.0, index.dayCounter()), exercise)\n",
    "\n",
    "    # # Setup the pricing engine for European swaption\n",
    "    european_swaption.setPricingEngine(engine)\n",
    "    european_swaption_npv = european_swaption.NPV()\n",
    "    # print(\"QuantLib European Swaption price is: \", european_swaption_npv)\n",
    "    return european_swaption_npv"
   ]
  },
  {
   "cell_type": "code",
   "execution_count": 105,
   "metadata": {},
   "outputs": [
    {
     "data": {
      "text/plain": [
       "0.03274836883975357"
      ]
     },
     "execution_count": 105,
     "metadata": {},
     "output_type": "execute_result"
    }
   ],
   "source": [
    "get_fair_value_ql(5, tenor, days_per_year, a, sigma, 0.036, r0)"
   ]
  },
  {
   "cell_type": "code",
   "execution_count": 102,
   "metadata": {},
   "outputs": [
    {
     "data": {
      "text/plain": [
       "-3.7042353236458464e-05"
      ]
     },
     "execution_count": 102,
     "metadata": {},
     "output_type": "execute_result"
    }
   ],
   "source": [
    "price_european_MC(swap_values, tenor, forward_rate_normal) - get_fair_value_ql(5, tenor, days_per_year, a, sigma, 0.024, r0)"
   ]
  },
  {
   "cell_type": "code",
   "execution_count": null,
   "metadata": {},
   "outputs": [],
   "source": []
  }
 ],
 "metadata": {
  "kernelspec": {
   "display_name": "Python 3",
   "language": "python",
   "name": "python3"
  },
  "language_info": {
   "codemirror_mode": {
    "name": "ipython",
    "version": 3
   },
   "file_extension": ".py",
   "mimetype": "text/x-python",
   "name": "python",
   "nbconvert_exporter": "python",
   "pygments_lexer": "ipython3",
   "version": "3.9.9"
  }
 },
 "nbformat": 4,
 "nbformat_minor": 2
}
